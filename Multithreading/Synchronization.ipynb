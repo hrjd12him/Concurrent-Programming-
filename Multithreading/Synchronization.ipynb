{
 "cells": [
  {
   "attachments": {
    "multithreading-python-1.png": {
     "image/png": "[encoded data removed]"
    }
   },
   "cell_type": "markdown",
   "metadata": {},
   "source": [
    "# Synchronization between threads\n",
    "\n",
    "Thread synchronization is defined as a mechanism which ensures that two or more concurrent threads do not simultaneously execute some particular program segment known as critical section.\n",
    "* For example, in the diagram below, 3 threads try to access shared resource or critical section at the same time.\n",
    "\n",
    "![multithreading-python-1.png](attachment:multithreading-python-1.png)"
   ]
  },
  {
   "cell_type": "code",
   "execution_count": 13,
   "metadata": {},
   "outputs": [
    {
     "name": "stdout",
     "output_type": "stream",
     "text": [
      "Iteration 0: x = 200000\n",
      "Iteration 1: x = 200000\n",
      "Iteration 2: x = 200000\n",
      "Iteration 3: x = 200000\n",
      "Iteration 4: x = 200000\n",
      "Iteration 5: x = 200000\n",
      "Iteration 6: x = 200000\n",
      "Iteration 7: x = 200000\n",
      "Iteration 8: x = 200000\n",
      "Iteration 9: x = 200000\n"
     ]
    }
   ],
   "source": [
    "#Consider the program below to understand the concept of race condition:\n",
    "import threading \n",
    "\n",
    "# global variable x \n",
    "x = 0\n",
    "\n",
    "def increment(): \n",
    "\t\"\"\" \n",
    "\tfunction to increment global variable x \n",
    "\t\"\"\"\n",
    "\tglobal x \n",
    "\tx += 1\n",
    "\n",
    "def thread_task(): \n",
    "\t\"\"\" \n",
    "\ttask for thread \n",
    "\tcalls increment function 100000 times. \n",
    "\t\"\"\"\n",
    "\tfor _ in range(100000): \n",
    "\t\tincrement()\n",
    "\n",
    "def main_task(): \n",
    "\tglobal x \n",
    "\t# setting global variable x as 0 \n",
    "\tx = 0\n",
    "\n",
    "\t# creating threads \n",
    "\tt1 = threading.Thread(target=thread_task) \n",
    "\tt2 = threading.Thread(target=thread_task) \n",
    "\n",
    "\t# start threads \n",
    "\tt1.start() \n",
    "\tt2.start() \n",
    "\n",
    "\t# wait until threads finish their job \n",
    "\tt1.join() \n",
    "\tt2.join() \n",
    "\n",
    "if __name__ == \"__main__\": \n",
    "\tfor i in range(10): \n",
    "\t\tmain_task() \n",
    "\t\tprint(\"Iteration {0}: x = {1}\".format(i,x)) \n"
   ]
  },
  {
   "cell_type": "markdown",
   "metadata": {},
   "source": [
    "# race condition\n",
    "* A race condition occurs when two or more threads can access shared data and they try to change it at the same time. As a result, the values of variables may be unpredictable and vary depending on the timings of context switches of the processes."
   ]
  },
  {
   "cell_type": "markdown",
   "metadata": {},
   "source": [
    "```Hence, we need a tool for proper synchronization between multiple threads.\n",
    "```\n",
    "# Using Locks\n",
    "\n",
    "Lock class provides following methods:\n",
    "\n",
    "- acquire([blocking]) : To acquire a lock. A lock can be blocking or non-blocking.\n",
    "    - When invoked with the blocking argument set to True (the default), thread execution is blocked until the lock is unlocked, then lock is set to locked and return True.\n",
    "    - When invoked with the blocking argument set to False, thread execution is not blocked. If lock is unlocked, then set it to locked and return True else return False immediately.\n",
    "- release() : To release a lock.\n",
    "    - When the lock is locked, reset it to unlocked, and return. If any other threads are blocked waiting for the lock to become unlocked, allow exactly one of them to proceed.\n",
    "    - If lock is already unlocked, a ThreadError is raised."
   ]
  },
  {
   "cell_type": "code",
   "execution_count": 1,
   "metadata": {},
   "outputs": [
    {
     "name": "stdout",
     "output_type": "stream",
     "text": [
      "Iteration 0: x = 200000\n",
      "Iteration 1: x = 200000\n",
      "Iteration 2: x = 200000\n",
      "Iteration 3: x = 200000\n",
      "Iteration 4: x = 200000\n",
      "Iteration 5: x = 200000\n",
      "Iteration 6: x = 200000\n",
      "Iteration 7: x = 200000\n",
      "Iteration 8: x = 200000\n",
      "Iteration 9: x = 200000\n"
     ]
    }
   ],
   "source": [
    "import threading \n",
    "\n",
    "# global variable x \n",
    "x = 0\n",
    "\n",
    "def increment(): \n",
    "\t\"\"\" \n",
    "\tfunction to increment global variable x \n",
    "\t\"\"\"\n",
    "\tglobal x \n",
    "\tx += 1\n",
    "\n",
    "def thread_task(lock): \n",
    "\t\"\"\" \n",
    "\ttask for thread \n",
    "\tcalls increment function 100000 times. \n",
    "\t\"\"\"\n",
    "\tfor _ in range(100000): \n",
    "\t\twith lock:\n",
    "\t\t\tincrement()\n",
    "\n",
    "def main_task(): \n",
    "\tglobal x \n",
    "\t# setting global variable x as 0 \n",
    "\tx = 0\n",
    "\n",
    "\t# creating a lock \n",
    "\tlock = threading.Lock() \n",
    "\n",
    "\t# creating threads \n",
    "\tt1 = threading.Thread(target=thread_task, args=(lock,)) \n",
    "\tt2 = threading.Thread(target=thread_task, args=(lock,)) \n",
    "\n",
    "\t# start threads \n",
    "\tt1.start() \n",
    "\tt2.start() \n",
    "\n",
    "\t# wait until threads finish their job \n",
    "\tt1.join() \n",
    "\tt2.join() \n",
    "\n",
    "if __name__ == \"__main__\": \n",
    "\tfor i in range(10): \n",
    "\t\tmain_task() \n",
    "\t\tprint(\"Iteration {0}: x = {1}\".format(i,x)) \n"
   ]
  },
  {
   "cell_type": "code",
   "execution_count": 1,
   "metadata": {},
   "outputs": [
    {
     "name": "stdout",
     "output_type": "stream",
     "text": [
      "Shared Counter: 2000000\n"
     ]
    }
   ],
   "source": [
    "import threading\n",
    "\n",
    "# Shared data\n",
    "shared_counter = 0\n",
    "lock = threading.Lock()\n",
    "\n",
    "# Function to be executed by threads\n",
    "def increment_counter():\n",
    "    global shared_counter\n",
    "    for _ in range(1000000):\n",
    "        # Acquire the lock before accessing the shared counter\n",
    "        with lock:\n",
    "            shared_counter += 1\n",
    "        # Release the lock after updating the shared counter\n",
    "\n",
    "# Create two threads\n",
    "thread1 = threading.Thread(target=increment_counter)\n",
    "thread2 = threading.Thread(target=increment_counter)\n",
    "\n",
    "# Start the threads\n",
    "thread1.start()\n",
    "thread2.start()\n",
    "\n",
    "# Wait for both threads to finish\n",
    "thread1.join()\n",
    "thread2.join()\n",
    "\n",
    "print(\"Shared Counter:\", shared_counter)\n"
   ]
  }
 ],
 "metadata": {
  "kernelspec": {
   "display_name": "Python 3",
   "language": "python",
   "name": "python3"
  },
  "language_info": {
   "codemirror_mode": {
    "name": "ipython",
    "version": 3
   },
   "file_extension": ".py",
   "mimetype": "text/x-python",
   "name": "python",
   "nbconvert_exporter": "python",
   "pygments_lexer": "ipython3",
   "version": "3.11.4"
  }
 },
 "nbformat": 4,
 "nbformat_minor": 2
}
