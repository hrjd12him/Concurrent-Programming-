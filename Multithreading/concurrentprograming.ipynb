{
 "cells": [
  {
   "cell_type": "markdown",
   "metadata": {},
   "source": [
    "# Concurrent programming\n",
    "\n",
    "Concurrent programming is a computing technique where multiple tasks are executed simultaneously, allowing programs to make better use of modern multicore processors and to handle multiple I/O-bound operations efficiently. Unlike sequential programming, where tasks are executed one after the other, concurrent programming enables programs to execute multiple tasks concurrently, making efficient use of available resources and improving overall system performance.\n",
    "\n",
    "In concurrent programming, there are two main models of concurrent execution:\n",
    "\n",
    "- Multithreading\n",
    "- multiprocessing\n",
    "\n",
    "\n",
    "# Key Concepts and Challenges in Concurrent Programming:\n",
    "\n",
    "* Synchronization: Coordinating the execution of threads or processes to prevent race conditions and ensure data consistency. Synchronization primitives like locks, semaphores, and conditions are used.\n",
    "\n",
    "* Deadlocks: A situation where two or more processes are unable to proceed because each is waiting for the other to release a resource.\n",
    "\n",
    "* Starvation: A situation where a process or thread is unable to gain regular access to shared resources and is unable to make progress.\n",
    "\n",
    "* Concurrency Control: Managing access to shared databases in a multi-user environment, ensuring that transactions are executed in a consistent and isolated manner.\n",
    "\n",
    "* Load Balancing: Distributing the processing and communication activity evenly across a computer network so that no single device is overwhelmed.\n",
    "\n",
    "* Scalability: Ensuring that a system can handle increased load without sacrificing performance, usually achieved by optimizing algorithms and architecture."
   ]
  },
  {
   "cell_type": "markdown",
   "metadata": {},
   "source": [
    "Realtime example\n",
    "\n",
    "* Encapsulation - every organisation is a realtime example of encapsulation take jspiders as an example their trackers, trainers, hrs, manager etc will be their in one building.\n",
    "* Inheritance - Take parent and child realtime example.\n",
    "* Polymorphism - a person is a realtime example of polymorphism according to situation he will behave.\n",
    "* Abstraction - take mobile phone as a example we know basic functionalities and we don't know the internal functionalities how it is working."
   ]
  }
 ],
 "metadata": {
  "language_info": {
   "name": "python"
  }
 },
 "nbformat": 4,
 "nbformat_minor": 2
}
